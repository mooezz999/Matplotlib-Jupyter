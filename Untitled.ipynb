{
 "cells": [
  {
   "cell_type": "code",
   "execution_count": 1,
   "id": "smooth-consensus",
   "metadata": {},
   "outputs": [],
   "source": [
    "from collections import Counter\n",
    "import pandas as pd\n",
    "import csv\n",
    "import numpy as np\n",
    "import matplotlib\n",
    "matplotlib.use('TkAgg')\n",
    "import matplotlib.pyplot as plt\n",
    "\n",
    "\n",
    "\n"
   ]
  },
  {
   "cell_type": "code",
   "execution_count": 2,
   "id": "large-queen",
   "metadata": {},
   "outputs": [
    {
     "data": {
      "text/plain": [
       "Text(0.5, 1.0, 'Median Salary (USD) by Age')"
      ]
     },
     "execution_count": 2,
     "metadata": {},
     "output_type": "execute_result"
    }
   ],
   "source": [
    "\n",
    "ages_x = [18, 19, 20, 21, 22, 23, 24, 25, 26, 27, 28, 29, 30, 31, 32, 33, 34, 35,\n",
    "          36, 37, 38, 39, 40, 41, 42, 43, 44, 45, 46, 47, 48, 49, 50, 51, 52, 53, 54, 55]\n",
    "\n",
    "\n",
    "\n",
    "py_dev_y = [20046, 17100, 20000, 24744, 30500, 37732, 41247, 45372, 48876, 53850, 57287, 63016, 65998, 70003, 70000, 71496, 75370, 83640, 84666,\n",
    "            84392, 78254, 85000, 87038, 91991, 100000, 94796, 97962, 93302, 99240, 102736, 112285, 100771, 104708, 108423, 101407, 112542, 122870, 120000]\n",
    "plt.plot(ages_x, py_dev_y,color='yellow', marker='.',linewidth=5, label='Python')\n",
    "\n",
    "js_dev_y = [16446, 16791, 18942, 21780, 25704, 29000, 34372, 37810, 43515, 46823, 49293, 53437, 56373, 62375, 66674, 68745, 68746, 74583, 79000,\n",
    "            78508, 79996, 80403, 83820, 88833, 91660, 87892, 96243, 90000, 99313, 91660, 102264, 100000, 100000, 91660, 99240, 108000, 105000, 104000]\n",
    "plt.plot(ages_x, js_dev_y,color='blue',marker='o',linewidth=3, label='JavaScript')\n",
    "\n",
    "dev_y = [17784, 16500, 18012, 20628, 25206, 30252, 34368, 38496, 42000, 46752, 49320, 53200, 56000, 62316, 64928, 67317, 68748, 73752, 77232,\n",
    "         78000, 78508, 79536, 82488, 88935, 90000, 90056, 95000, 90000, 91633, 91660, 98150, 98964, 100000, 98988, 100000, 108923, 105000, 103117]\n",
    "plt.plot(ages_x, dev_y, color='#444444', linestyle='--',linewidth=3, label='All Devs')\n",
    "\n",
    "plt.xlabel('Ages')\n",
    "plt.ylabel('Median Salary (USD)')\n",
    "plt.title('Median Salary (USD) by Age')"
   ]
  },
  {
   "cell_type": "code",
   "execution_count": 3,
   "id": "suspected-sacramento",
   "metadata": {},
   "outputs": [],
   "source": [
    "plt.style.use('fivethirtyeight')\n",
    "#plt.xkcd()\n",
    "plt.legend()\n",
    "plt.grid(True)\n",
    "plt.tight_layout()\n",
    "plt.savefig('plot.png')\n",
    "plt.show()"
   ]
  },
  {
   "cell_type": "code",
   "execution_count": 4,
   "id": "developed-husband",
   "metadata": {},
   "outputs": [],
   "source": [
    "plt.bar(ages_x, py_dev_y,color='yellow',  label='Python')\n",
    "plt.bar(ages_x, js_dev_y,color='blue', label='JavaScript')\n",
    "plt.bar(ages_x, dev_y, color='#444444', label='All Devs')\n",
    "plt.xlabel('Ages')\n",
    "plt.ylabel('Median Salary (USD)')\n",
    "plt.title('Median Salary (USD) by Age')\n",
    "plt.style.use('fivethirtyeight')\n",
    "#plt.xkcd()\n",
    "plt.legend()\n",
    "plt.grid(True)\n",
    "plt.tight_layout()\n",
    "plt.savefig('plot.png')\n",
    "plt.show()"
   ]
  },
  {
   "cell_type": "code",
   "execution_count": 5,
   "id": "refined-cheese",
   "metadata": {},
   "outputs": [],
   "source": [
    "plt.plot(ages_x, py_dev_y,color='yellow',  label='Python')\n",
    "plt.plot(ages_x, js_dev_y,color='blue', label='JavaScript')\n",
    "plt.bar(ages_x, dev_y, color='#444444', label='All Devs')\n",
    "plt.xlabel('Ages')\n",
    "plt.ylabel('Median Salary (USD)')\n",
    "plt.title('Median Salary (USD) by Age')\n",
    "plt.style.use('fivethirtyeight')\n",
    "#plt.xkcd()\n",
    "plt.legend()\n",
    "plt.grid(True)\n",
    "plt.tight_layout()\n",
    "plt.savefig('plot.png')\n",
    "plt.show()"
   ]
  },
  {
   "cell_type": "code",
   "execution_count": 6,
   "id": "german-opera",
   "metadata": {},
   "outputs": [],
   "source": [
    "x_indexes = np.arange(len(ages_x))\n",
    "width=0.25\n",
    "plt.barh(x_indexes-width, py_dev_y,height=width,color='yellow',  label='Python')\n",
    "plt.barh(x_indexes, js_dev_y,height=width,color='blue', label='JavaScript')\n",
    "plt.barh(x_indexes+width, dev_y,height=width, color='#444444', label='All Devs')\n",
    "plt.ylabel('Ages')\n",
    "plt.xlabel('Median Salary (USD)')\n",
    "plt.xticks(ticks=x_indexes,labels=ages_x)\n",
    "plt.title('Median Salary (USD) by Age')\n",
    "plt.style.use('fivethirtyeight')\n",
    "#plt.xkcd()\n",
    "plt.legend()\n",
    "plt.grid(True)\n",
    "plt.tight_layout()\n",
    "plt.savefig('plot.png')\n",
    "plt.show()"
   ]
  },
  {
   "cell_type": "code",
   "execution_count": 7,
   "id": "floral-alaska",
   "metadata": {},
   "outputs": [],
   "source": [
    "with open ('data/data.csv') as csv_file:\n",
    "    csv_reader = csv.DictReader(csv_file)\n",
    "    language_counter = Counter()\n",
    "    \n",
    "    for row in csv_reader:\n",
    "        language_counter.update(row['LanguagesWorkedWith'].split(';'))\n",
    "languages=[]\n",
    "popularity=[]\n",
    "for item in language_counter.most_common(15):\n",
    "    languages.append(item[0])\n",
    "    popularity.append(item[1])\n",
    "languages.reverse()\n",
    "popularity.reverse()\n",
    "plt.barh(languages,popularity)\n",
    "plt.title(\"most 15 popular languages\")\n",
    "plt.ylabel(\"languages\")\n",
    "plt.xlabel(\"No of ppl who use\")\n",
    "plt.tight_layout()\n",
    "plt.show()\n"
   ]
  },
  {
   "cell_type": "code",
   "execution_count": 8,
   "id": "statewide-worcester",
   "metadata": {},
   "outputs": [],
   "source": [
    "data = pd.read_csv('data/data.csv')\n",
    "ids = data['Responder_id']\n",
    "lang_responses = data['LanguagesWorkedWith']\n",
    "for response in lang_responses:\n",
    "     language_counter.update(response.split(';'))\n",
    "languages=[]\n",
    "popularity=[]\n",
    "for item in language_counter.most_common(15):\n",
    "    languages.append(item[0])\n",
    "    popularity.append(item[1])\n",
    "languages.reverse()\n",
    "popularity.reverse()\n",
    "plt.barh(languages,popularity)\n",
    "plt.title(\"most 15 popular languages\")\n",
    "plt.ylabel(\"languages\")\n",
    "plt.xlabel(\"No of ppl who use\")\n",
    "plt.tight_layout()\n",
    "plt.show()       "
   ]
  }
 ],
 "metadata": {
  "kernelspec": {
   "display_name": "Python 3",
   "language": "python",
   "name": "python3"
  },
  "language_info": {
   "codemirror_mode": {
    "name": "ipython",
    "version": 3
   },
   "file_extension": ".py",
   "mimetype": "text/x-python",
   "name": "python",
   "nbconvert_exporter": "python",
   "pygments_lexer": "ipython3",
   "version": "3.9.1"
  }
 },
 "nbformat": 4,
 "nbformat_minor": 5
}
